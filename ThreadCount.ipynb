{
 "cells": [
  {
   "cell_type": "code",
   "execution_count": 1,
   "metadata": {},
   "outputs": [
    {
     "name": "stdout",
     "output_type": "stream",
     "text": [
      "Collecting opencv-python\n",
      "  Using cached opencv_python-4.6.0.66-cp36-abi3-win_amd64.whl (35.6 MB)\n",
      "Collecting numpy>=1.21.2\n",
      "  Downloading numpy-1.23.5-cp311-cp311-win_amd64.whl (14.6 MB)\n",
      "     ---------------------------------------- 14.6/14.6 MB 240.2 kB/s eta 0:00:00\n",
      "Installing collected packages: numpy, opencv-python\n",
      "Successfully installed numpy-1.23.5 opencv-python-4.6.0.66\n",
      "Note: you may need to restart the kernel to use updated packages.\n",
      "Collecting matplotlib\n",
      "  Downloading matplotlib-3.6.2-cp311-cp311-win_amd64.whl (7.2 MB)\n",
      "     ---------------------------------------- 7.2/7.2 MB 346.0 kB/s eta 0:00:00\n",
      "Collecting contourpy>=1.0.1\n",
      "  Downloading contourpy-1.0.6-cp311-cp311-win_amd64.whl (163 kB)\n",
      "     ---------------------------------------- 163.6/163.6 kB 377.6 kB/s eta 0:00:00\n",
      "Collecting cycler>=0.10\n",
      "  Using cached cycler-0.11.0-py3-none-any.whl (6.4 kB)\n",
      "Collecting fonttools>=4.22.0\n",
      "  Using cached fonttools-4.38.0-py3-none-any.whl (965 kB)\n",
      "Collecting kiwisolver>=1.0.1\n",
      "  Downloading kiwisolver-1.4.4-cp311-cp311-win_amd64.whl (55 kB)\n",
      "     ---------------------------------------- 55.4/55.4 kB 480.4 kB/s eta 0:00:00\n",
      "Requirement already satisfied: numpy>=1.19 in c:\\users\\concurrent\\code\\cv_project\\.venv\\lib\\site-packages (from matplotlib) (1.23.5)\n",
      "Requirement already satisfied: packaging>=20.0 in c:\\users\\concurrent\\code\\cv_project\\.venv\\lib\\site-packages (from matplotlib) (21.3)\n",
      "Collecting pillow>=6.2.0\n",
      "  Downloading Pillow-9.3.0-cp311-cp311-win_amd64.whl (2.5 MB)\n",
      "     ---------------------------------------- 2.5/2.5 MB 443.7 kB/s eta 0:00:00\n",
      "Requirement already satisfied: pyparsing>=2.2.1 in c:\\users\\concurrent\\code\\cv_project\\.venv\\lib\\site-packages (from matplotlib) (3.0.9)\n",
      "Requirement already satisfied: python-dateutil>=2.7 in c:\\users\\concurrent\\code\\cv_project\\.venv\\lib\\site-packages (from matplotlib) (2.8.2)\n",
      "Requirement already satisfied: six>=1.5 in c:\\users\\concurrent\\code\\cv_project\\.venv\\lib\\site-packages (from python-dateutil>=2.7->matplotlib) (1.16.0)\n",
      "Installing collected packages: pillow, kiwisolver, fonttools, cycler, contourpy, matplotlib\n",
      "Successfully installed contourpy-1.0.6 cycler-0.11.0 fonttools-4.38.0 kiwisolver-1.4.4 matplotlib-3.6.2 pillow-9.3.0\n",
      "Note: you may need to restart the kernel to use updated packages.\n"
     ]
    }
   ],
   "source": [
    "%pip install -U opencv-python\n",
    "%pip install -U matplotlib"
   ]
  },
  {
   "cell_type": "code",
   "execution_count": 2,
   "metadata": {},
   "outputs": [],
   "source": [
    "import numpy as np;\n",
    "import cv2 as cv;\n",
    "import os\n",
    "from os.path import join as joinPath\n"
   ]
  },
  {
   "cell_type": "code",
   "execution_count": 3,
   "metadata": {},
   "outputs": [],
   "source": [
    "from matplotlib import pyplot as plt\n",
    "\n",
    "## Helper to show image on VSCode. Because cv.imshow doesn't work there.\n",
    "def showImage(title: str, image: cv.Mat, color: bool = True):\n",
    "    if (color):\n",
    "        image = cv.cvtColor(image, cv.COLOR_BGR2RGB)\n",
    "    plt.imshow(image)\n",
    "    plt.title(title)\n",
    "    plt.show()\n"
   ]
  },
  {
   "cell_type": "code",
   "execution_count": 4,
   "metadata": {},
   "outputs": [],
   "source": [
    "def otsuThreshold(image: cv.Mat):\n",
    "    gray = cv.cvtColor(image, cv.COLOR_BGR2GRAY)\n",
    "    return cv.threshold(gray, 0, 255, cv.THRESH_BINARY | cv.THRESH_OTSU)[1]"
   ]
  },
  {
   "cell_type": "code",
   "execution_count": 5,
   "metadata": {},
   "outputs": [],
   "source": [
    "bedsheetImage = cv.imread('samples/Bedsheet_image.jpg')\n",
    "karcheepImage = cv.imread('samples/Karcheep.jpg')\n",
    "lightClothImage = cv.imread('samples/Lightweight_Cloth.jpg')\n",
    "shirtFabricImage = cv.imread('samples/Shirt_fabric.jpg')\n",
    "towelImage = cv.imread('samples/Towel fabric.jpg')\n",
    "\n",
    "allImages = [bedsheetImage, karcheepImage, lightClothImage, shirtFabricImage, towelImage]"
   ]
  },
  {
   "cell_type": "code",
   "execution_count": 6,
   "metadata": {},
   "outputs": [],
   "source": [
    "## Not sure what it does but opencv tutorial does this\n",
    "## https://docs.opencv.org/4.x/d2/dbd/tutorial_distance_transform.html\n",
    "def blackBackground(image: cv.Mat) -> cv.Mat:\n",
    "    src = image.copy()\n",
    "    src[np.all(src == 255, axis=2)]\n",
    "    return src\n"
   ]
  },
  {
   "cell_type": "code",
   "execution_count": 7,
   "metadata": {},
   "outputs": [],
   "source": [
    "## Does laplacian filtering (without applying above blackBackground)\n",
    "def laplacianSharpening(image: cv.Mat, coefficient: int = 1) -> cv.Mat:\n",
    "    kernel = np.array([[1, 1, 1], [1, -8, 1], [1, 1, 1]], dtype=np.float32) * coefficient\n",
    "    imgLaplacian = cv.filter2D(image, cv.CV_32F, kernel)\n",
    "    sharp = np.float32(image)\n",
    "    imgResult = sharp - imgLaplacian\n",
    "    imgResult = np.clip(imgResult, 0, 255)\n",
    "    imgResult = imgResult.astype('uint8')\n",
    "    return imgResult"
   ]
  },
  {
   "cell_type": "code",
   "execution_count": 8,
   "metadata": {},
   "outputs": [],
   "source": [
    "## Helper to avoid nesting too many parentheses\n",
    "def pipeline(image: cv.Mat, functions):\n",
    "    for transform in functions:\n",
    "        image = transform(image)\n",
    "    return image"
   ]
  },
  {
   "cell_type": "code",
   "execution_count": 9,
   "metadata": {},
   "outputs": [],
   "source": [
    "## Distance transform a grayscale image\n",
    "def distanceTransform(image: cv.Mat, distanceType=cv.DIST_L2, maskSize=3):\n",
    "    return cv.distanceTransform(image, distanceType, maskSize)"
   ]
  },
  {
   "cell_type": "code",
   "execution_count": 10,
   "metadata": {},
   "outputs": [],
   "source": [
    "def binaryThreshold(image: cv.Mat) -> cv.Mat:\n",
    "    return cv.threshold(image, 100, 255, cv.THRESH_BINARY)[1]"
   ]
  },
  {
   "cell_type": "code",
   "execution_count": 11,
   "metadata": {},
   "outputs": [],
   "source": [
    "def preprocess(image: cv.Mat) -> cv.Mat:\n",
    "    return pipeline(image, [laplacianSharpening, otsuThreshold, distanceTransform])"
   ]
  },
  {
   "cell_type": "code",
   "execution_count": 15,
   "metadata": {},
   "outputs": [],
   "source": [
    "image = bedsheetImage\n",
    "imagePre = preprocess(image)\n",
    "imagePre8u = imagePre.astype(np.uint8)\n",
    "contours, _ = cv.findContours(imagePre, cv.RETR_EXTERNAL, cv.CHAIN_APPROX_SIMPLE)\n",
    "markers = np.zeroes(imagePre.shape, dtype=np.int32)\n",
    "for i in range(len(contours)):\n",
    "    cv.drawContours(markers, contours, i, i+1, -1)\n",
    "cv.circle(markers, (5,5), 3, (255,255,255), -1)\n",
    "markers_8u = (markers * 10).astype('uint8')\n",
    "cv.imshow('Markers', markers_8u)\n",
    "\n",
    "cv.watershed(image, markers)\n"
   ]
  },
  {
   "cell_type": "code",
   "execution_count": null,
   "metadata": {},
   "outputs": [],
   "source": []
  },
  {
   "cell_type": "markdown",
   "metadata": {},
   "source": []
  }
 ],
 "metadata": {
  "kernelspec": {
   "display_name": "Python 3.10.6 ('.venv': venv)",
   "language": "python",
   "name": "python3"
  },
  "language_info": {
   "codemirror_mode": {
    "name": "ipython",
    "version": 3
   },
   "file_extension": ".py",
   "mimetype": "text/x-python",
   "name": "python",
   "nbconvert_exporter": "python",
   "pygments_lexer": "ipython3",
   "version": "3.11.0"
  },
  "orig_nbformat": 4,
  "vscode": {
   "interpreter": {
    "hash": "cc45c84230e6b1b566c1f20795967ed233df145f0cfe275532b1ac931d3b580c"
   }
  }
 },
 "nbformat": 4,
 "nbformat_minor": 2
}
